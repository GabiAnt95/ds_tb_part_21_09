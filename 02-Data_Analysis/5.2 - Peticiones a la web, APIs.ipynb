{
 "cells": [
  {
   "cell_type": "markdown",
   "metadata": {},
   "source": [
    "# 5.2 - Peticiones a la web, APIs\n",
    "\n",
    "[**APIs publicas**](https://github.com/public-apis/public-apis)\n",
    "\n",
    "\n",
    "![api_request](images/api_request.svg)\n",
    "\n",
    "\n",
    "\n",
    "Una api (interfaz de programación de aplicaciones), es un código que permite que dos programas de software se comuniquen entre sí.\n",
    "\n",
    "La api define la forma correcta para que un desarrollador escriba un programa que solicite servicios de un sistema operativo u otra aplicación. Las api se implementan mediante llamadas a funciones. La sintaxis requerida se describe en la documentación de la api a la que se llama, y cada una es diferente.\n",
    "\n",
    "Las api se componen de dos elementos relacionados. La primera es una especificación que describe cómo se intercambia la información entre programas, hecha en forma de una solicitud de procesamiento y una devolución de los datos necesarios. El segundo es una interfaz de software escrita según esa especificación y publicada de alguna manera para su uso. Se dice que el software que quiere acceder a las características y capacidades de la API la llama, y se dice que el software que crea la API la publica.\n",
    "\n",
    "De manera general, usaremos las api para obtener información."
   ]
  },
  {
   "cell_type": "markdown",
   "metadata": {},
   "source": [
    "### Realizando una petición a la web (GET)\n",
    "\n",
    "Usaremos la librería [requests](https://docs.python-requests.org/en/master/) para realizar peticiones a la web."
   ]
  },
  {
   "cell_type": "code",
   "execution_count": 1,
   "metadata": {},
   "outputs": [
    {
     "name": "stdout",
     "output_type": "stream",
     "text": [
      "Requirement already satisfied: requests in /Users/iudh/opt/anaconda3/envs/clase/lib/python3.8/site-packages (2.26.0)\r\n",
      "Requirement already satisfied: certifi>=2017.4.17 in /Users/iudh/opt/anaconda3/envs/clase/lib/python3.8/site-packages (from requests) (2021.5.30)\r\n",
      "Requirement already satisfied: idna<4,>=2.5 in /Users/iudh/opt/anaconda3/envs/clase/lib/python3.8/site-packages (from requests) (3.1)\r\n",
      "Requirement already satisfied: charset-normalizer~=2.0.0 in /Users/iudh/opt/anaconda3/envs/clase/lib/python3.8/site-packages (from requests) (2.0.0)\r\n",
      "Requirement already satisfied: urllib3<1.27,>=1.21.1 in /Users/iudh/opt/anaconda3/envs/clase/lib/python3.8/site-packages (from requests) (1.26.7)\r\n"
     ]
    }
   ],
   "source": [
    "!pip install requests"
   ]
  },
  {
   "cell_type": "code",
   "execution_count": 2,
   "metadata": {},
   "outputs": [],
   "source": [
    "import requests as req"
   ]
  },
  {
   "cell_type": "code",
   "execution_count": 3,
   "metadata": {},
   "outputs": [],
   "source": [
    "url='http://www.google.es'"
   ]
  },
  {
   "cell_type": "code",
   "execution_count": 4,
   "metadata": {},
   "outputs": [
    {
     "data": {
      "text/plain": [
       "<Response [200]>"
      ]
     },
     "execution_count": 4,
     "metadata": {},
     "output_type": "execute_result"
    }
   ],
   "source": [
    "req.get(url)   # realiza la peticion GET al servidor"
   ]
  },
  {
   "cell_type": "code",
   "execution_count": 5,
   "metadata": {},
   "outputs": [],
   "source": [
    "url='http://www.google.es/search?q=machine+learning'"
   ]
  },
  {
   "cell_type": "code",
   "execution_count": 10,
   "metadata": {
    "scrolled": false
   },
   "outputs": [
    {
     "data": {
      "text/plain": [
       "'<!doctype html><html lang=\"es\"><head><meta charset'"
      ]
     },
     "execution_count": 10,
     "metadata": {},
     "output_type": "execute_result"
    }
   ],
   "source": [
    "req.get(url).text[:50]"
   ]
  },
  {
   "cell_type": "markdown",
   "metadata": {},
   "source": [
    "### API de [Anime](https://jikan.moe/)"
   ]
  },
  {
   "cell_type": "code",
   "execution_count": 11,
   "metadata": {},
   "outputs": [],
   "source": [
    "URL_BASE='https://api.jikan.moe/v3/search/anime?q='"
   ]
  },
  {
   "cell_type": "code",
   "execution_count": 12,
   "metadata": {},
   "outputs": [
    {
     "data": {
      "text/plain": [
       "<Response [200]>"
      ]
     },
     "execution_count": 12,
     "metadata": {},
     "output_type": "execute_result"
    }
   ],
   "source": [
    "busqueda='naruto'\n",
    "\n",
    "req.get(URL_BASE+busqueda)"
   ]
  },
  {
   "cell_type": "code",
   "execution_count": 18,
   "metadata": {
    "scrolled": false
   },
   "outputs": [
    {
     "data": {
      "text/plain": [
       "{'mal_id': 43,\n",
       " 'url': 'https://myanimelist.net/anime/43/Koukaku_Kidoutai',\n",
       " 'image_url': 'https://cdn.myanimelist.net/images/anime/10/82594.jpg?s=077dce74e000ea7dcd77c738bd1cbee0',\n",
       " 'title': 'Koukaku Kidoutai',\n",
       " 'airing': False,\n",
       " 'synopsis': 'In the year 2029, Niihama City has become a technologically advanced metropolis. Due to great improvements in cybernetics, its citizens are able to replace their limbs with robotic parts. The world is...',\n",
       " 'type': 'Movie',\n",
       " 'episodes': 1,\n",
       " 'score': 8.28,\n",
       " 'start_date': '1995-11-18T00:00:00+00:00',\n",
       " 'end_date': '1995-11-18T00:00:00+00:00',\n",
       " 'members': 520754,\n",
       " 'rated': 'R+'}"
      ]
     },
     "execution_count": 18,
     "metadata": {},
     "output_type": "execute_result"
    }
   ],
   "source": [
    "busqueda='koukaku kidotai'\n",
    "\n",
    "req.get(URL_BASE+busqueda).json()['results'][0]"
   ]
  },
  {
   "cell_type": "markdown",
   "metadata": {},
   "source": [
    "### [PokeAPI](https://pokeapi.co/)"
   ]
  },
  {
   "cell_type": "code",
   "execution_count": 19,
   "metadata": {},
   "outputs": [],
   "source": [
    "BASE='https://pokeapi.co/api/v2/'"
   ]
  },
  {
   "cell_type": "code",
   "execution_count": 20,
   "metadata": {},
   "outputs": [],
   "source": [
    "pokemon='pokemon/25'"
   ]
  },
  {
   "cell_type": "code",
   "execution_count": 21,
   "metadata": {
    "scrolled": true
   },
   "outputs": [
    {
     "data": {
      "text/plain": [
       "<Response [200]>"
      ]
     },
     "execution_count": 21,
     "metadata": {},
     "output_type": "execute_result"
    }
   ],
   "source": [
    "response=req.get(BASE+pokemon)\n",
    "\n",
    "response"
   ]
  },
  {
   "cell_type": "code",
   "execution_count": 28,
   "metadata": {},
   "outputs": [
    {
     "data": {
      "text/plain": [
       "'pikachu'"
      ]
     },
     "execution_count": 28,
     "metadata": {},
     "output_type": "execute_result"
    }
   ],
   "source": [
    "response.json()['forms'][0]['name']"
   ]
  },
  {
   "cell_type": "code",
   "execution_count": 30,
   "metadata": {},
   "outputs": [
    {
     "data": {
      "text/plain": [
       "{'count': 1118,\n",
       " 'next': 'https://pokeapi.co/api/v2/pokemon?offset=4&limit=3',\n",
       " 'previous': 'https://pokeapi.co/api/v2/pokemon?offset=0&limit=1',\n",
       " 'results': [{'name': 'ivysaur',\n",
       "   'url': 'https://pokeapi.co/api/v2/pokemon/2/'},\n",
       "  {'name': 'venusaur', 'url': 'https://pokeapi.co/api/v2/pokemon/3/'},\n",
       "  {'name': 'charmander', 'url': 'https://pokeapi.co/api/v2/pokemon/4/'}]}"
      ]
     },
     "execution_count": 30,
     "metadata": {},
     "output_type": "execute_result"
    }
   ],
   "source": [
    "# la url puede tener parametros (?...&...&...)\n",
    "\n",
    "query={'limit':3, 'offset':1}\n",
    "\n",
    "res_poke=req.get(BASE+'pokemon', params=query)\n",
    "\n",
    "res_poke.json()"
   ]
  },
  {
   "cell_type": "markdown",
   "metadata": {},
   "source": [
    "### [ISS](https://wheretheiss.at/w/developer) API"
   ]
  },
  {
   "cell_type": "code",
   "execution_count": 36,
   "metadata": {
    "scrolled": false
   },
   "outputs": [
    {
     "data": {
      "text/plain": [
       "<Response [200]>"
      ]
     },
     "execution_count": 36,
     "metadata": {},
     "output_type": "execute_result"
    }
   ],
   "source": [
    "URL='https://api.wheretheiss.at/v1/satellites/25544'\n",
    "\n",
    "res_iss=req.get(URL)\n",
    "\n",
    "res_iss"
   ]
  },
  {
   "cell_type": "code",
   "execution_count": 37,
   "metadata": {},
   "outputs": [
    {
     "data": {
      "text/plain": [
       "{'Date': 'Thu, 11 Nov 2021 18:48:38 GMT', 'Server': 'Apache/2.2.22 (Ubuntu)', 'X-Powered-By': 'PHP/5.3.10-1ubuntu3.26', 'X-Rate-Limit-Limit': '350', 'X-Rate-Limit-Remaining': '347', 'X-Rate-Limit-Interval': '5 minutes', 'Access-Control-Allow-Origin': '*', 'X-Apache-Time': 'D=25698', 'Cache-Control': 'max-age=0, no-cache', 'Content-Length': '311', 'Keep-Alive': 'timeout=15, max=100', 'Connection': 'Keep-Alive', 'Content-Type': 'application/json'}"
      ]
     },
     "execution_count": 37,
     "metadata": {},
     "output_type": "execute_result"
    }
   ],
   "source": [
    "res_iss.headers"
   ]
  },
  {
   "cell_type": "code",
   "execution_count": 38,
   "metadata": {},
   "outputs": [
    {
     "data": {
      "text/plain": [
       "{'name': 'iss',\n",
       " 'id': 25544,\n",
       " 'latitude': 3.1761785077822,\n",
       " 'longitude': 2.1126431292769,\n",
       " 'altitude': 425.74383581004,\n",
       " 'velocity': 27561.209824592,\n",
       " 'visibility': 'daylight',\n",
       " 'footprint': 4536.5708370458,\n",
       " 'timestamp': 1636656518,\n",
       " 'daynum': 2459530.2837731,\n",
       " 'solar_lat': -17.634221135276,\n",
       " 'solar_lon': 253.8663842709,\n",
       " 'units': 'kilometers'}"
      ]
     },
     "execution_count": 38,
     "metadata": {},
     "output_type": "execute_result"
    }
   ],
   "source": [
    "res_iss.json()"
   ]
  },
  {
   "cell_type": "code",
   "execution_count": 39,
   "metadata": {},
   "outputs": [
    {
     "name": "stdout",
     "output_type": "stream",
     "text": [
      "0\n",
      "1\n",
      "2\n",
      "3\n",
      "4\n",
      "5\n",
      "6\n",
      "7\n",
      "8\n",
      "9\n",
      "10\n",
      "11\n",
      "12\n",
      "13\n",
      "14\n",
      "15\n",
      "16\n",
      "17\n",
      "18\n",
      "19\n"
     ]
    }
   ],
   "source": [
    "import time\n",
    "\n",
    "posiciones=[]\n",
    "\n",
    "for i in range(20):\n",
    "    \n",
    "    print(i)\n",
    "    \n",
    "    res_iss=req.get(URL)\n",
    "    \n",
    "    data=res_iss.json()\n",
    "    \n",
    "    posiciones.append(data)\n",
    "    \n",
    "    time.sleep(1)"
   ]
  },
  {
   "cell_type": "code",
   "execution_count": 40,
   "metadata": {},
   "outputs": [
    {
     "data": {
      "text/html": [
       "<div>\n",
       "<style scoped>\n",
       "    .dataframe tbody tr th:only-of-type {\n",
       "        vertical-align: middle;\n",
       "    }\n",
       "\n",
       "    .dataframe tbody tr th {\n",
       "        vertical-align: top;\n",
       "    }\n",
       "\n",
       "    .dataframe thead th {\n",
       "        text-align: right;\n",
       "    }\n",
       "</style>\n",
       "<table border=\"1\" class=\"dataframe\">\n",
       "  <thead>\n",
       "    <tr style=\"text-align: right;\">\n",
       "      <th></th>\n",
       "      <th>name</th>\n",
       "      <th>id</th>\n",
       "      <th>latitude</th>\n",
       "      <th>longitude</th>\n",
       "      <th>altitude</th>\n",
       "      <th>velocity</th>\n",
       "      <th>visibility</th>\n",
       "      <th>footprint</th>\n",
       "      <th>timestamp</th>\n",
       "      <th>daynum</th>\n",
       "      <th>solar_lat</th>\n",
       "      <th>solar_lon</th>\n",
       "      <th>units</th>\n",
       "    </tr>\n",
       "  </thead>\n",
       "  <tbody>\n",
       "    <tr>\n",
       "      <th>0</th>\n",
       "      <td>iss</td>\n",
       "      <td>25544</td>\n",
       "      <td>14.475087</td>\n",
       "      <td>10.382722</td>\n",
       "      <td>425.351788</td>\n",
       "      <td>27565.610070</td>\n",
       "      <td>eclipsed</td>\n",
       "      <td>4534.591349</td>\n",
       "      <td>1636656742</td>\n",
       "      <td>2.459530e+06</td>\n",
       "      <td>-17.634926</td>\n",
       "      <td>252.933129</td>\n",
       "      <td>kilometers</td>\n",
       "    </tr>\n",
       "    <tr>\n",
       "      <th>1</th>\n",
       "      <td>iss</td>\n",
       "      <td>25544</td>\n",
       "      <td>14.574688</td>\n",
       "      <td>10.459690</td>\n",
       "      <td>425.353521</td>\n",
       "      <td>27565.642937</td>\n",
       "      <td>eclipsed</td>\n",
       "      <td>4534.600102</td>\n",
       "      <td>1636656744</td>\n",
       "      <td>2.459530e+06</td>\n",
       "      <td>-17.634933</td>\n",
       "      <td>252.924797</td>\n",
       "      <td>kilometers</td>\n",
       "    </tr>\n",
       "    <tr>\n",
       "      <th>2</th>\n",
       "      <td>iss</td>\n",
       "      <td>25544</td>\n",
       "      <td>14.624477</td>\n",
       "      <td>10.498203</td>\n",
       "      <td>425.354420</td>\n",
       "      <td>27565.659329</td>\n",
       "      <td>eclipsed</td>\n",
       "      <td>4534.604641</td>\n",
       "      <td>1636656745</td>\n",
       "      <td>2.459530e+06</td>\n",
       "      <td>-17.634936</td>\n",
       "      <td>252.920630</td>\n",
       "      <td>kilometers</td>\n",
       "    </tr>\n",
       "    <tr>\n",
       "      <th>3</th>\n",
       "      <td>iss</td>\n",
       "      <td>25544</td>\n",
       "      <td>14.724030</td>\n",
       "      <td>10.575286</td>\n",
       "      <td>425.356281</td>\n",
       "      <td>27565.692030</td>\n",
       "      <td>eclipsed</td>\n",
       "      <td>4534.614041</td>\n",
       "      <td>1636656747</td>\n",
       "      <td>2.459530e+06</td>\n",
       "      <td>-17.634942</td>\n",
       "      <td>252.912298</td>\n",
       "      <td>kilometers</td>\n",
       "    </tr>\n",
       "    <tr>\n",
       "      <th>4</th>\n",
       "      <td>iss</td>\n",
       "      <td>25544</td>\n",
       "      <td>14.823554</td>\n",
       "      <td>10.652449</td>\n",
       "      <td>425.358227</td>\n",
       "      <td>27565.724623</td>\n",
       "      <td>eclipsed</td>\n",
       "      <td>4534.623871</td>\n",
       "      <td>1636656749</td>\n",
       "      <td>2.459530e+06</td>\n",
       "      <td>-17.634948</td>\n",
       "      <td>252.903965</td>\n",
       "      <td>kilometers</td>\n",
       "    </tr>\n",
       "    <tr>\n",
       "      <th>5</th>\n",
       "      <td>iss</td>\n",
       "      <td>25544</td>\n",
       "      <td>14.873302</td>\n",
       "      <td>10.691059</td>\n",
       "      <td>425.359232</td>\n",
       "      <td>27565.740877</td>\n",
       "      <td>eclipsed</td>\n",
       "      <td>4534.628947</td>\n",
       "      <td>1636656750</td>\n",
       "      <td>2.459530e+06</td>\n",
       "      <td>-17.634951</td>\n",
       "      <td>252.899799</td>\n",
       "      <td>kilometers</td>\n",
       "    </tr>\n",
       "    <tr>\n",
       "      <th>6</th>\n",
       "      <td>iss</td>\n",
       "      <td>25544</td>\n",
       "      <td>14.972775</td>\n",
       "      <td>10.768337</td>\n",
       "      <td>425.361306</td>\n",
       "      <td>27565.773304</td>\n",
       "      <td>eclipsed</td>\n",
       "      <td>4534.639419</td>\n",
       "      <td>1636656752</td>\n",
       "      <td>2.459530e+06</td>\n",
       "      <td>-17.634958</td>\n",
       "      <td>252.891466</td>\n",
       "      <td>kilometers</td>\n",
       "    </tr>\n",
       "    <tr>\n",
       "      <th>7</th>\n",
       "      <td>iss</td>\n",
       "      <td>25544</td>\n",
       "      <td>15.072215</td>\n",
       "      <td>10.845694</td>\n",
       "      <td>425.363464</td>\n",
       "      <td>27565.805621</td>\n",
       "      <td>eclipsed</td>\n",
       "      <td>4534.650319</td>\n",
       "      <td>1636656754</td>\n",
       "      <td>2.459530e+06</td>\n",
       "      <td>-17.634964</td>\n",
       "      <td>252.883134</td>\n",
       "      <td>kilometers</td>\n",
       "    </tr>\n",
       "    <tr>\n",
       "      <th>8</th>\n",
       "      <td>iss</td>\n",
       "      <td>25544</td>\n",
       "      <td>15.121922</td>\n",
       "      <td>10.884403</td>\n",
       "      <td>425.364575</td>\n",
       "      <td>27565.821739</td>\n",
       "      <td>eclipsed</td>\n",
       "      <td>4534.655928</td>\n",
       "      <td>1636656755</td>\n",
       "      <td>2.459530e+06</td>\n",
       "      <td>-17.634967</td>\n",
       "      <td>252.878967</td>\n",
       "      <td>kilometers</td>\n",
       "    </tr>\n",
       "    <tr>\n",
       "      <th>9</th>\n",
       "      <td>iss</td>\n",
       "      <td>25544</td>\n",
       "      <td>15.221315</td>\n",
       "      <td>10.961881</td>\n",
       "      <td>425.366859</td>\n",
       "      <td>27565.853892</td>\n",
       "      <td>eclipsed</td>\n",
       "      <td>4534.667465</td>\n",
       "      <td>1636656757</td>\n",
       "      <td>2.459530e+06</td>\n",
       "      <td>-17.634973</td>\n",
       "      <td>252.870635</td>\n",
       "      <td>kilometers</td>\n",
       "    </tr>\n",
       "    <tr>\n",
       "      <th>10</th>\n",
       "      <td>iss</td>\n",
       "      <td>25544</td>\n",
       "      <td>15.270997</td>\n",
       "      <td>11.000650</td>\n",
       "      <td>425.368033</td>\n",
       "      <td>27565.869928</td>\n",
       "      <td>eclipsed</td>\n",
       "      <td>4534.673393</td>\n",
       "      <td>1636656758</td>\n",
       "      <td>2.459530e+06</td>\n",
       "      <td>-17.634977</td>\n",
       "      <td>252.866468</td>\n",
       "      <td>kilometers</td>\n",
       "    </tr>\n",
       "    <tr>\n",
       "      <th>11</th>\n",
       "      <td>iss</td>\n",
       "      <td>25544</td>\n",
       "      <td>15.370337</td>\n",
       "      <td>11.078248</td>\n",
       "      <td>425.370443</td>\n",
       "      <td>27565.901918</td>\n",
       "      <td>eclipsed</td>\n",
       "      <td>4534.685564</td>\n",
       "      <td>1636656760</td>\n",
       "      <td>2.459530e+06</td>\n",
       "      <td>-17.634983</td>\n",
       "      <td>252.858136</td>\n",
       "      <td>kilometers</td>\n",
       "    </tr>\n",
       "    <tr>\n",
       "      <th>12</th>\n",
       "      <td>iss</td>\n",
       "      <td>25544</td>\n",
       "      <td>15.469644</td>\n",
       "      <td>11.155928</td>\n",
       "      <td>425.372936</td>\n",
       "      <td>27565.933798</td>\n",
       "      <td>eclipsed</td>\n",
       "      <td>4534.698158</td>\n",
       "      <td>1636656762</td>\n",
       "      <td>2.459530e+06</td>\n",
       "      <td>-17.634989</td>\n",
       "      <td>252.849803</td>\n",
       "      <td>kilometers</td>\n",
       "    </tr>\n",
       "    <tr>\n",
       "      <th>13</th>\n",
       "      <td>iss</td>\n",
       "      <td>25544</td>\n",
       "      <td>15.519284</td>\n",
       "      <td>11.194798</td>\n",
       "      <td>425.374215</td>\n",
       "      <td>27565.949698</td>\n",
       "      <td>eclipsed</td>\n",
       "      <td>4534.704612</td>\n",
       "      <td>1636656763</td>\n",
       "      <td>2.459530e+06</td>\n",
       "      <td>-17.634992</td>\n",
       "      <td>252.845637</td>\n",
       "      <td>kilometers</td>\n",
       "    </tr>\n",
       "    <tr>\n",
       "      <th>14</th>\n",
       "      <td>iss</td>\n",
       "      <td>25544</td>\n",
       "      <td>15.618541</td>\n",
       "      <td>11.272602</td>\n",
       "      <td>425.376833</td>\n",
       "      <td>27565.981416</td>\n",
       "      <td>eclipsed</td>\n",
       "      <td>4534.717836</td>\n",
       "      <td>1636656765</td>\n",
       "      <td>2.459530e+06</td>\n",
       "      <td>-17.634999</td>\n",
       "      <td>252.837304</td>\n",
       "      <td>kilometers</td>\n",
       "    </tr>\n",
       "    <tr>\n",
       "      <th>15</th>\n",
       "      <td>iss</td>\n",
       "      <td>25544</td>\n",
       "      <td>15.717761</td>\n",
       "      <td>11.350488</td>\n",
       "      <td>425.379534</td>\n",
       "      <td>27566.013025</td>\n",
       "      <td>eclipsed</td>\n",
       "      <td>4534.731478</td>\n",
       "      <td>1636656767</td>\n",
       "      <td>2.459530e+06</td>\n",
       "      <td>-17.635005</td>\n",
       "      <td>252.828971</td>\n",
       "      <td>kilometers</td>\n",
       "    </tr>\n",
       "    <tr>\n",
       "      <th>16</th>\n",
       "      <td>iss</td>\n",
       "      <td>25544</td>\n",
       "      <td>15.767358</td>\n",
       "      <td>11.389462</td>\n",
       "      <td>425.380916</td>\n",
       "      <td>27566.028789</td>\n",
       "      <td>eclipsed</td>\n",
       "      <td>4534.738455</td>\n",
       "      <td>1636656768</td>\n",
       "      <td>2.459530e+06</td>\n",
       "      <td>-17.635008</td>\n",
       "      <td>252.824805</td>\n",
       "      <td>kilometers</td>\n",
       "    </tr>\n",
       "    <tr>\n",
       "      <th>17</th>\n",
       "      <td>iss</td>\n",
       "      <td>25544</td>\n",
       "      <td>15.866527</td>\n",
       "      <td>11.467473</td>\n",
       "      <td>425.383741</td>\n",
       "      <td>27566.060236</td>\n",
       "      <td>eclipsed</td>\n",
       "      <td>4534.752722</td>\n",
       "      <td>1636656770</td>\n",
       "      <td>2.459530e+06</td>\n",
       "      <td>-17.635014</td>\n",
       "      <td>252.816473</td>\n",
       "      <td>kilometers</td>\n",
       "    </tr>\n",
       "    <tr>\n",
       "      <th>18</th>\n",
       "      <td>iss</td>\n",
       "      <td>25544</td>\n",
       "      <td>15.916098</td>\n",
       "      <td>11.506510</td>\n",
       "      <td>425.385184</td>\n",
       "      <td>27566.075919</td>\n",
       "      <td>eclipsed</td>\n",
       "      <td>4534.760011</td>\n",
       "      <td>1636656771</td>\n",
       "      <td>2.459530e+06</td>\n",
       "      <td>-17.635018</td>\n",
       "      <td>252.812306</td>\n",
       "      <td>kilometers</td>\n",
       "    </tr>\n",
       "    <tr>\n",
       "      <th>19</th>\n",
       "      <td>iss</td>\n",
       "      <td>25544</td>\n",
       "      <td>16.015215</td>\n",
       "      <td>11.584650</td>\n",
       "      <td>425.388132</td>\n",
       "      <td>27566.107205</td>\n",
       "      <td>eclipsed</td>\n",
       "      <td>4534.774900</td>\n",
       "      <td>1636656773</td>\n",
       "      <td>2.459530e+06</td>\n",
       "      <td>-17.635024</td>\n",
       "      <td>252.803973</td>\n",
       "      <td>kilometers</td>\n",
       "    </tr>\n",
       "  </tbody>\n",
       "</table>\n",
       "</div>"
      ],
      "text/plain": [
       "   name     id   latitude  longitude    altitude      velocity visibility  \\\n",
       "0   iss  25544  14.475087  10.382722  425.351788  27565.610070   eclipsed   \n",
       "1   iss  25544  14.574688  10.459690  425.353521  27565.642937   eclipsed   \n",
       "2   iss  25544  14.624477  10.498203  425.354420  27565.659329   eclipsed   \n",
       "3   iss  25544  14.724030  10.575286  425.356281  27565.692030   eclipsed   \n",
       "4   iss  25544  14.823554  10.652449  425.358227  27565.724623   eclipsed   \n",
       "5   iss  25544  14.873302  10.691059  425.359232  27565.740877   eclipsed   \n",
       "6   iss  25544  14.972775  10.768337  425.361306  27565.773304   eclipsed   \n",
       "7   iss  25544  15.072215  10.845694  425.363464  27565.805621   eclipsed   \n",
       "8   iss  25544  15.121922  10.884403  425.364575  27565.821739   eclipsed   \n",
       "9   iss  25544  15.221315  10.961881  425.366859  27565.853892   eclipsed   \n",
       "10  iss  25544  15.270997  11.000650  425.368033  27565.869928   eclipsed   \n",
       "11  iss  25544  15.370337  11.078248  425.370443  27565.901918   eclipsed   \n",
       "12  iss  25544  15.469644  11.155928  425.372936  27565.933798   eclipsed   \n",
       "13  iss  25544  15.519284  11.194798  425.374215  27565.949698   eclipsed   \n",
       "14  iss  25544  15.618541  11.272602  425.376833  27565.981416   eclipsed   \n",
       "15  iss  25544  15.717761  11.350488  425.379534  27566.013025   eclipsed   \n",
       "16  iss  25544  15.767358  11.389462  425.380916  27566.028789   eclipsed   \n",
       "17  iss  25544  15.866527  11.467473  425.383741  27566.060236   eclipsed   \n",
       "18  iss  25544  15.916098  11.506510  425.385184  27566.075919   eclipsed   \n",
       "19  iss  25544  16.015215  11.584650  425.388132  27566.107205   eclipsed   \n",
       "\n",
       "      footprint   timestamp        daynum  solar_lat   solar_lon       units  \n",
       "0   4534.591349  1636656742  2.459530e+06 -17.634926  252.933129  kilometers  \n",
       "1   4534.600102  1636656744  2.459530e+06 -17.634933  252.924797  kilometers  \n",
       "2   4534.604641  1636656745  2.459530e+06 -17.634936  252.920630  kilometers  \n",
       "3   4534.614041  1636656747  2.459530e+06 -17.634942  252.912298  kilometers  \n",
       "4   4534.623871  1636656749  2.459530e+06 -17.634948  252.903965  kilometers  \n",
       "5   4534.628947  1636656750  2.459530e+06 -17.634951  252.899799  kilometers  \n",
       "6   4534.639419  1636656752  2.459530e+06 -17.634958  252.891466  kilometers  \n",
       "7   4534.650319  1636656754  2.459530e+06 -17.634964  252.883134  kilometers  \n",
       "8   4534.655928  1636656755  2.459530e+06 -17.634967  252.878967  kilometers  \n",
       "9   4534.667465  1636656757  2.459530e+06 -17.634973  252.870635  kilometers  \n",
       "10  4534.673393  1636656758  2.459530e+06 -17.634977  252.866468  kilometers  \n",
       "11  4534.685564  1636656760  2.459530e+06 -17.634983  252.858136  kilometers  \n",
       "12  4534.698158  1636656762  2.459530e+06 -17.634989  252.849803  kilometers  \n",
       "13  4534.704612  1636656763  2.459530e+06 -17.634992  252.845637  kilometers  \n",
       "14  4534.717836  1636656765  2.459530e+06 -17.634999  252.837304  kilometers  \n",
       "15  4534.731478  1636656767  2.459530e+06 -17.635005  252.828971  kilometers  \n",
       "16  4534.738455  1636656768  2.459530e+06 -17.635008  252.824805  kilometers  \n",
       "17  4534.752722  1636656770  2.459530e+06 -17.635014  252.816473  kilometers  \n",
       "18  4534.760011  1636656771  2.459530e+06 -17.635018  252.812306  kilometers  \n",
       "19  4534.774900  1636656773  2.459530e+06 -17.635024  252.803973  kilometers  "
      ]
     },
     "execution_count": 40,
     "metadata": {},
     "output_type": "execute_result"
    }
   ],
   "source": [
    "import pandas as pd\n",
    "\n",
    "pd.DataFrame(posiciones)"
   ]
  },
  {
   "cell_type": "markdown",
   "metadata": {},
   "source": [
    "### [GitHub](https://docs.github.com/en/rest) API"
   ]
  },
  {
   "cell_type": "code",
   "execution_count": null,
   "metadata": {},
   "outputs": [],
   "source": []
  },
  {
   "cell_type": "code",
   "execution_count": null,
   "metadata": {},
   "outputs": [],
   "source": []
  },
  {
   "cell_type": "code",
   "execution_count": null,
   "metadata": {},
   "outputs": [],
   "source": []
  },
  {
   "cell_type": "code",
   "execution_count": null,
   "metadata": {},
   "outputs": [],
   "source": []
  },
  {
   "cell_type": "code",
   "execution_count": null,
   "metadata": {},
   "outputs": [],
   "source": []
  },
  {
   "cell_type": "code",
   "execution_count": null,
   "metadata": {
    "scrolled": false
   },
   "outputs": [],
   "source": []
  },
  {
   "cell_type": "code",
   "execution_count": null,
   "metadata": {},
   "outputs": [],
   "source": []
  },
  {
   "cell_type": "code",
   "execution_count": null,
   "metadata": {},
   "outputs": [],
   "source": []
  },
  {
   "cell_type": "markdown",
   "metadata": {},
   "source": [
    "### [Kaggle](https://www.kaggle.com/docs/api) API\n",
    "\n",
    "Para usar la API de Kaggle, primero tenemos que registrarnos en la página. En la información de nuestra cuenta podemos pedir el token de la API:\n",
    "\n",
    "![kaggle_api](images/kaggle_api.png)\n",
    "\n",
    "\n",
    "Al pedir el token, se descargará un archivo llamado `kaggls.json`, el cual tendremos que guardar en la carpeta oculta `.kaggle`. \n",
    "\n",
    "Para ocultar el token del resto de usuarios se escribe algo como: `chmod 600 /Users/iudh/.kaggle/kaggle.json` en la terminal."
   ]
  },
  {
   "cell_type": "code",
   "execution_count": null,
   "metadata": {},
   "outputs": [],
   "source": []
  },
  {
   "cell_type": "code",
   "execution_count": null,
   "metadata": {},
   "outputs": [],
   "source": []
  },
  {
   "cell_type": "code",
   "execution_count": null,
   "metadata": {},
   "outputs": [],
   "source": []
  },
  {
   "cell_type": "code",
   "execution_count": null,
   "metadata": {},
   "outputs": [],
   "source": []
  },
  {
   "cell_type": "code",
   "execution_count": null,
   "metadata": {},
   "outputs": [],
   "source": []
  },
  {
   "cell_type": "code",
   "execution_count": null,
   "metadata": {},
   "outputs": [],
   "source": []
  },
  {
   "cell_type": "markdown",
   "metadata": {},
   "source": [
    "### [Nasa](https://api.nasa.gov/) API"
   ]
  },
  {
   "cell_type": "code",
   "execution_count": null,
   "metadata": {},
   "outputs": [],
   "source": []
  },
  {
   "cell_type": "code",
   "execution_count": null,
   "metadata": {},
   "outputs": [],
   "source": []
  },
  {
   "cell_type": "code",
   "execution_count": null,
   "metadata": {},
   "outputs": [],
   "source": []
  },
  {
   "cell_type": "code",
   "execution_count": null,
   "metadata": {},
   "outputs": [],
   "source": []
  },
  {
   "cell_type": "code",
   "execution_count": null,
   "metadata": {},
   "outputs": [],
   "source": []
  },
  {
   "cell_type": "code",
   "execution_count": null,
   "metadata": {},
   "outputs": [],
   "source": []
  },
  {
   "cell_type": "code",
   "execution_count": null,
   "metadata": {},
   "outputs": [],
   "source": []
  },
  {
   "cell_type": "markdown",
   "metadata": {},
   "source": [
    "### Yahoo Finance"
   ]
  },
  {
   "cell_type": "code",
   "execution_count": null,
   "metadata": {},
   "outputs": [],
   "source": [
    "!pip install yfinance"
   ]
  },
  {
   "cell_type": "code",
   "execution_count": null,
   "metadata": {},
   "outputs": [],
   "source": [
    "import pandas as pd\n",
    "import yfinance as yf\n",
    "\n",
    "import time"
   ]
  },
  {
   "cell_type": "code",
   "execution_count": null,
   "metadata": {},
   "outputs": [],
   "source": [
    "data=yf.download(tickers='^DJI', period='5d', interval='1m')\n",
    "\n",
    "data['datetime']=data.index\n",
    "\n",
    "data"
   ]
  },
  {
   "cell_type": "code",
   "execution_count": null,
   "metadata": {},
   "outputs": [],
   "source": [
    "data.to_dict(orient='records')[-1]"
   ]
  },
  {
   "cell_type": "code",
   "execution_count": null,
   "metadata": {},
   "outputs": [],
   "source": [
    "while 1:\n",
    "    data=yf.download(tickers='UBER', period='5d', interval='1m')\n",
    "\n",
    "    data['datetime']=data.index\n",
    "\n",
    "    print(data.to_dict(orient='records')[-1])\n",
    "    \n",
    "    time.sleep(0.5)"
   ]
  },
  {
   "cell_type": "markdown",
   "metadata": {},
   "source": [
    "### Twitter API, ejemplo\n",
    "\n",
    "**https://developer.twitter.com/en/apply-for-access.html**\n",
    "    \n",
    "**http://docs.tweepy.org/en/latest/**\n",
    "\n",
    "```python\n",
    "import tweepy\n",
    "\n",
    "API_KEY='apikey'\n",
    "API_SECRET='apisecret'\n",
    "ACCESS_TOKEN='tu_token'\n",
    "TOKEN_SECRET='tu_tokensecret'\n",
    "\n",
    "auth=tweepy.OAuthHandler(API_KEY, API_SECRET)\n",
    "auth.set_access_token(ACCESS_TOKEN, TOKEN_SECRET)\n",
    "\n",
    "api=tweepy.API(auth)\n",
    "\n",
    "\n",
    "def get_followers(user, count=100):\n",
    "    results=api.followers(user, count=count)\n",
    "    followers=[pd.Series(foll._json) for foll in results]\n",
    "    df=pd.DataFrame(followers)\n",
    "    return df\n",
    "\n",
    "\n",
    "df_followers=get_followers('canal_o_usuario')\n",
    "df_followers.head()\n",
    "```"
   ]
  }
 ],
 "metadata": {
  "kernelspec": {
   "display_name": "clase",
   "language": "python",
   "name": "clase"
  },
  "language_info": {
   "codemirror_mode": {
    "name": "ipython",
    "version": 3
   },
   "file_extension": ".py",
   "mimetype": "text/x-python",
   "name": "python",
   "nbconvert_exporter": "python",
   "pygments_lexer": "ipython3",
   "version": "3.8.8"
  },
  "varInspector": {
   "cols": {
    "lenName": 16,
    "lenType": 16,
    "lenVar": 40
   },
   "kernels_config": {
    "python": {
     "delete_cmd_postfix": "",
     "delete_cmd_prefix": "del ",
     "library": "var_list.py",
     "varRefreshCmd": "print(var_dic_list())"
    },
    "r": {
     "delete_cmd_postfix": ") ",
     "delete_cmd_prefix": "rm(",
     "library": "var_list.r",
     "varRefreshCmd": "cat(var_dic_list()) "
    }
   },
   "types_to_exclude": [
    "module",
    "function",
    "builtin_function_or_method",
    "instance",
    "_Feature"
   ],
   "window_display": false
  }
 },
 "nbformat": 4,
 "nbformat_minor": 4
}
