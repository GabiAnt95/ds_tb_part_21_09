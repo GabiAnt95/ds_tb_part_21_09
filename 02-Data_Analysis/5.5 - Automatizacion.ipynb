{
 "cells": [
  {
   "cell_type": "markdown",
   "metadata": {},
   "source": [
    "# 5.5 - Automatización\n",
    "\n",
    "![automatizacion](images/automatizacion.png)"
   ]
  },
  {
   "cell_type": "markdown",
   "metadata": {},
   "source": [
    "Selenium automatiza los navegadores. Principalmente, es para la automatización de aplicaciones web con fines de pruebas, pero ciertamente no se limita a eso. Las tareas aburridas de administración basadas en web pueden ser automatizadas.\n",
    "\n",
    "Veremos como realizar estas automatizaciones y además ocultar nuestro driver para que parezca una persona."
   ]
  },
  {
   "cell_type": "markdown",
   "metadata": {},
   "source": [
    "**Librerias básicas**"
   ]
  },
  {
   "cell_type": "code",
   "execution_count": 1,
   "metadata": {},
   "outputs": [],
   "source": [
    "from selenium import webdriver  # driver selenium\n",
    "\n",
    "import time  # manejo temporal"
   ]
  },
  {
   "cell_type": "markdown",
   "metadata": {},
   "source": [
    "### Opciones del driver\n",
    "\n",
    "https://peter.sh/experiments/chromium-command-line-switches/\n"
   ]
  },
  {
   "cell_type": "code",
   "execution_count": 2,
   "metadata": {},
   "outputs": [],
   "source": [
    "from selenium.webdriver.chrome.options import Options"
   ]
  },
  {
   "cell_type": "code",
   "execution_count": 3,
   "metadata": {},
   "outputs": [],
   "source": [
    "# opciones del driver\n",
    "\n",
    "opciones=Options()\n",
    "\n",
    "opciones.add_argument('--start-maximized')  # empieza maximizado\n",
    "\n",
    "#opciones.add_argument('--headlees')\n",
    "opciones.headless=False               # Si es True no aparece la pantalla\n",
    "\n",
    "opciones.add_experimental_option('excludeSwitches', ['enable-automation']) # para quitar flag de robot\n",
    "opciones.add_experimental_option('useAutomationExtension', False)\n",
    "\n",
    "opciones.add_extension('driver/adblock.crx')  # extension de adblocker\n",
    "\n",
    "#opciones.add_argument('--incognito')\n",
    "\n",
    "opciones.add_argument('user-data-dir=selenium')   # para guardar cookies\n",
    "\n",
    "#opciones.add_argument('--no-proxy-server')  # sin proxy\n",
    "#opciones.add_argument('proxy-server=106.122.8.54:3128')  # proxy custom"
   ]
  },
  {
   "cell_type": "markdown",
   "metadata": {},
   "source": [
    "### Creando usuario random\n",
    "\n",
    "https://pypi.org/project/fake-useragent/"
   ]
  },
  {
   "cell_type": "code",
   "execution_count": null,
   "metadata": {},
   "outputs": [],
   "source": [
    "!pip install fake_useragent"
   ]
  },
  {
   "cell_type": "code",
   "execution_count": null,
   "metadata": {},
   "outputs": [],
   "source": [
    "from fake_useragent import UserAgent\n",
    "\n",
    "usuario=UserAgent().random\n",
    "\n",
    "print(usuario)\n",
    "\n",
    "opciones.add_argument(f'user-agent={usuario}')"
   ]
  },
  {
   "cell_type": "markdown",
   "metadata": {},
   "source": [
    "### Editando el archivo chromedriver\n",
    "\n",
    "\n",
    "Distil web monitor comprueba el patrón de regex  \"[a-z]dc_\", y el chromedriver tiene una variable que cumple con dicho patrón \"cdc_\". Esto hace posible la detección del driver en la red por parte de los monitores.\n",
    "\n",
    "\n",
    "**Cambiando la string cdc_**\n",
    "\n",
    "Podemos editar el chromedriver usando Vim, escribiendo en terminal:\n",
    "\n",
    "`vim /ruta/al/chromedriver`\n",
    "\n",
    "Una ver abierto el Vim, verás muchas **@** en el archivo. En el editor realizamos los siguientes pasos:\n",
    "\n",
    "+ Vamos a reemplazar la string `cdc_` todas las veces que aparece escribiendo: `%s/cdc_/arm_/g`. arm_ es solo un ejemplo, se puede sustituir con cualquier string con la condición de que se mantenga la longitud, si no el driver fallará.\n",
    "\n",
    "+ Para guardar los cambios y salir de Vim se escribe: `:wq!` y presiona Enter. Para salir sin guardar `:q!`.\n"
   ]
  },
  {
   "cell_type": "code",
   "execution_count": 4,
   "metadata": {},
   "outputs": [
    {
     "name": "stderr",
     "output_type": "stream",
     "text": [
      "[WDM] - \n",
      "\n",
      "[WDM] - ====== WebDriver manager ======\n",
      "[WDM] - Current google-chrome version is 96.0.4664\n",
      "[WDM] - Get LATEST driver version for 96.0.4664\n",
      "[WDM] - Driver [/Users/iudh/.wdm/drivers/chromedriver/mac64/96.0.4664.45/chromedriver] found in cache\n"
     ]
    }
   ],
   "source": [
    "from webdriver_manager.chrome import ChromeDriverManager\n",
    "\n",
    "PATH=ChromeDriverManager().install()   #'driver/chromedriver'"
   ]
  },
  {
   "cell_type": "markdown",
   "metadata": {},
   "source": [
    "### Ejemplo entrepeliculasyseries\n",
    "\n",
    "https://entrepeliculasyseries.io/"
   ]
  },
  {
   "cell_type": "code",
   "execution_count": 5,
   "metadata": {},
   "outputs": [],
   "source": [
    "from selenium.webdriver.common.by import By   # para elegir por elemento\n",
    "from selenium.webdriver.support.ui import WebDriverWait # para el time sleep\n",
    "from selenium.webdriver.support import expected_conditions as EC # condiciones esperadas\n",
    "from selenium.webdriver import ActionChains as AC # acciones en cadena"
   ]
  },
  {
   "cell_type": "code",
   "execution_count": 6,
   "metadata": {},
   "outputs": [],
   "source": [
    "url='https://entrepeliculasyseries.io/'"
   ]
  },
  {
   "cell_type": "code",
   "execution_count": 9,
   "metadata": {},
   "outputs": [],
   "source": [
    "driver=webdriver.Chrome(PATH, options=opciones)\n",
    "driver.get(url)\n",
    "\n",
    "time.sleep(5)\n",
    "\n",
    "#busqueda\n",
    "BUSQUEDA='trese'\n",
    "\n",
    "buscar=driver.find_element_by_xpath('//*[@id=\"tr_live_search\"]') # objeto en la web de busqueda\n",
    "\n",
    "buscar.send_keys(BUSQUEDA)  # incrusta la string\n",
    "time.sleep(3)\n",
    "buscar.submit() # dale al enter\n",
    "\n",
    "primer_res=driver.find_element_by_xpath('//*[@id=\"Tp-Wp\"]/div/main/div/section/div[2]/ul/li/div/a')\n",
    "primer_res.click()\n",
    "\n",
    "# temporadas\n",
    "TEMPORADA=1\n",
    "\n",
    "temporadas=driver.find_element_by_xpath('//*[@id=\"select-season\"]')\n",
    "temporadas.click()\n",
    "\n",
    "chooser=WebDriverWait(temporadas, 5).until(EC.element_to_be_clickable((By.XPATH, '//*[contains(text(),'+'\"'+f'Temporada {TEMPORADA}'+'\"'+')]')))\n",
    "chooser.click()\n",
    "\n",
    "\n",
    "capitulos=driver.find_element_by_xpath(f'//*[@id=\"season-{TEMPORADA}\"]')\n",
    "\n",
    "capitulos=capitulos.find_elements_by_tag_name('li')\n",
    "time.sleep(2)\n",
    "\n",
    "\n",
    "# desde aqui al capitulo\n",
    "capitulos[0].click()\n",
    "time.sleep(2)\n",
    "\n"
   ]
  },
  {
   "cell_type": "code",
   "execution_count": null,
   "metadata": {},
   "outputs": [],
   "source": []
  },
  {
   "cell_type": "markdown",
   "metadata": {},
   "source": [
    "### Ejemplo Betfair\n",
    "\n",
    "https://www.betfair.com/sport/inplay"
   ]
  },
  {
   "cell_type": "code",
   "execution_count": null,
   "metadata": {},
   "outputs": [],
   "source": []
  },
  {
   "cell_type": "code",
   "execution_count": null,
   "metadata": {},
   "outputs": [],
   "source": []
  },
  {
   "cell_type": "code",
   "execution_count": null,
   "metadata": {},
   "outputs": [],
   "source": []
  },
  {
   "cell_type": "code",
   "execution_count": null,
   "metadata": {},
   "outputs": [],
   "source": []
  },
  {
   "cell_type": "code",
   "execution_count": null,
   "metadata": {},
   "outputs": [],
   "source": []
  },
  {
   "cell_type": "code",
   "execution_count": null,
   "metadata": {},
   "outputs": [],
   "source": []
  },
  {
   "cell_type": "code",
   "execution_count": null,
   "metadata": {},
   "outputs": [],
   "source": []
  },
  {
   "cell_type": "code",
   "execution_count": null,
   "metadata": {},
   "outputs": [],
   "source": []
  }
 ],
 "metadata": {
  "finalized": {
   "timestamp": 1618416077763,
   "trusted": true
  },
  "kernelspec": {
   "display_name": "clase",
   "language": "python",
   "name": "clase"
  },
  "language_info": {
   "codemirror_mode": {
    "name": "ipython",
    "version": 3
   },
   "file_extension": ".py",
   "mimetype": "text/x-python",
   "name": "python",
   "nbconvert_exporter": "python",
   "pygments_lexer": "ipython3",
   "version": "3.8.8"
  },
  "varInspector": {
   "cols": {
    "lenName": 16,
    "lenType": 16,
    "lenVar": 40
   },
   "kernels_config": {
    "python": {
     "delete_cmd_postfix": "",
     "delete_cmd_prefix": "del ",
     "library": "var_list.py",
     "varRefreshCmd": "print(var_dic_list())"
    },
    "r": {
     "delete_cmd_postfix": ") ",
     "delete_cmd_prefix": "rm(",
     "library": "var_list.r",
     "varRefreshCmd": "cat(var_dic_list()) "
    }
   },
   "types_to_exclude": [
    "module",
    "function",
    "builtin_function_or_method",
    "instance",
    "_Feature"
   ],
   "window_display": false
  }
 },
 "nbformat": 4,
 "nbformat_minor": 4
}
