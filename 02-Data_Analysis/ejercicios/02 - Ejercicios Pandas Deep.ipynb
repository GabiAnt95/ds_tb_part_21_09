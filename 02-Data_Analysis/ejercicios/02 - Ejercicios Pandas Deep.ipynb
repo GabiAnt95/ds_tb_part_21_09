{
 "cells": [
  {
   "cell_type": "markdown",
   "id": "5b3cd5e7",
   "metadata": {},
   "source": [
    "# Ejercicios Pandas Deep\n",
    "\n",
    "![imagen](img/ejercicios.png)"
   ]
  },
  {
   "cell_type": "markdown",
   "id": "0fc3d306",
   "metadata": {},
   "source": [
    "## Ejercicio 1\n",
    "Importa el módulo `pandas` y el módulo `numpy`."
   ]
  },
  {
   "cell_type": "code",
   "execution_count": null,
   "id": "2bbb8feb",
   "metadata": {},
   "outputs": [],
   "source": []
  },
  {
   "cell_type": "markdown",
   "id": "5a1f1a84",
   "metadata": {},
   "source": [
    "## Ejercicio 2 \n",
    "\n",
    "Importa el dataset desde ésta [dirección](https://raw.githubusercontent.com/justmarkham/DAT8/master/data/drinks.csv). "
   ]
  },
  {
   "cell_type": "code",
   "execution_count": null,
   "id": "7506af08",
   "metadata": {},
   "outputs": [],
   "source": []
  },
  {
   "cell_type": "markdown",
   "id": "bb55c5c0",
   "metadata": {},
   "source": [
    "## Ejercicio 3\n",
    "\n",
    "¿Qué continente bebe más cerveza de media?"
   ]
  },
  {
   "cell_type": "code",
   "execution_count": null,
   "id": "b01a2ccd",
   "metadata": {},
   "outputs": [],
   "source": []
  },
  {
   "cell_type": "markdown",
   "id": "5edd811c",
   "metadata": {},
   "source": [
    "## Ejercicio 4 \n",
    "\n",
    "Describe el consumo de vino por continente"
   ]
  },
  {
   "cell_type": "code",
   "execution_count": null,
   "id": "937ad0db",
   "metadata": {},
   "outputs": [],
   "source": []
  },
  {
   "cell_type": "markdown",
   "id": "e694a26f",
   "metadata": {},
   "source": [
    "## Ejercicio 5\n",
    "\n",
    "¿Cuál es el consumo medio de alcohol por continente?"
   ]
  },
  {
   "cell_type": "code",
   "execution_count": null,
   "id": "ffe34d10",
   "metadata": {},
   "outputs": [],
   "source": []
  },
  {
   "cell_type": "markdown",
   "id": "da612732",
   "metadata": {},
   "source": [
    "## Ejercicio 6\n",
    "\n",
    "¿Y cuál es la mediana de consumo?"
   ]
  },
  {
   "cell_type": "code",
   "execution_count": null,
   "id": "664b7c2f",
   "metadata": {},
   "outputs": [],
   "source": []
  },
  {
   "cell_type": "markdown",
   "id": "493bec04",
   "metadata": {},
   "source": [
    "## Ejercicio 7\n",
    "\n",
    "Por continente, calcula media, máximo y mínimo de consumo de bebidas espirituosas"
   ]
  },
  {
   "cell_type": "code",
   "execution_count": null,
   "id": "5ab56799",
   "metadata": {},
   "outputs": [],
   "source": []
  },
  {
   "cell_type": "markdown",
   "id": "d4b6e6d9",
   "metadata": {},
   "source": [
    "## Ejercicio 8\n",
    "\n",
    "Crea una función lambda para poner en minúscula la columna `continent`"
   ]
  },
  {
   "cell_type": "code",
   "execution_count": null,
   "id": "99cda74e",
   "metadata": {},
   "outputs": [],
   "source": []
  },
  {
   "cell_type": "markdown",
   "id": "3d4a02af",
   "metadata": {},
   "source": [
    "## Ejercicio 9\n",
    "\n",
    "Crea una nueva columna llamada `more_wine_than_beer` con booleanos. True si wine_servings es mayor que beer_servings"
   ]
  },
  {
   "cell_type": "code",
   "execution_count": null,
   "id": "cd42e341",
   "metadata": {},
   "outputs": [],
   "source": []
  },
  {
   "cell_type": "markdown",
   "id": "abc0dcf7",
   "metadata": {},
   "source": [
    "## Ejercicio 10\n",
    "\n",
    "Multiplica todo el dataframe por 10"
   ]
  },
  {
   "cell_type": "code",
   "execution_count": null,
   "id": "292de0a9",
   "metadata": {},
   "outputs": [],
   "source": []
  },
  {
   "cell_type": "markdown",
   "id": "ae788c34",
   "metadata": {},
   "source": [
    "## Ejercicio 11\n",
    "\n",
    "Ahora carga los datasets [cars1](https://raw.githubusercontent.com/guipsamora/pandas_exercises/master/05_Merge/Auto_MPG/cars1.csv) y [cars2](https://raw.githubusercontent.com/guipsamora/pandas_exercises/master/05_Merge/Auto_MPG/cars2.csv)  "
   ]
  },
  {
   "cell_type": "code",
   "execution_count": null,
   "id": "c7ef9b7e",
   "metadata": {},
   "outputs": [],
   "source": []
  },
  {
   "cell_type": "markdown",
   "id": "f2e6bd83",
   "metadata": {},
   "source": [
    "## Ejercicio 12\n",
    "\n",
    "Elimina las columnas nulas de `cars1`"
   ]
  },
  {
   "cell_type": "code",
   "execution_count": null,
   "id": "a81e77f3",
   "metadata": {},
   "outputs": [],
   "source": []
  },
  {
   "cell_type": "markdown",
   "id": "6e829036",
   "metadata": {},
   "source": [
    "## Ejercicio 13\n",
    "\n",
    "¿Cuales son las dimensiones de los dos dataframes?"
   ]
  },
  {
   "cell_type": "code",
   "execution_count": null,
   "id": "acaf6259",
   "metadata": {},
   "outputs": [],
   "source": []
  },
  {
   "cell_type": "markdown",
   "id": "bd56901f",
   "metadata": {},
   "source": [
    "## Ejercicio 14\n",
    "\n",
    "Une los dos dataframes en uno solo llamado `cars`"
   ]
  },
  {
   "cell_type": "code",
   "execution_count": null,
   "id": "e863b382",
   "metadata": {},
   "outputs": [],
   "source": []
  },
  {
   "cell_type": "code",
   "execution_count": null,
   "id": "368d472a",
   "metadata": {},
   "outputs": [],
   "source": []
  }
 ],
 "metadata": {
  "kernelspec": {
   "display_name": "clase",
   "language": "python",
   "name": "clase"
  },
  "language_info": {
   "codemirror_mode": {
    "name": "ipython",
    "version": 3
   },
   "file_extension": ".py",
   "mimetype": "text/x-python",
   "name": "python",
   "nbconvert_exporter": "python",
   "pygments_lexer": "ipython3",
   "version": "3.8.8"
  }
 },
 "nbformat": 4,
 "nbformat_minor": 5
}
